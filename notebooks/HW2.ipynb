{
 "metadata": {
  "name": "",
  "signature": "sha256:afad0ce7cedea0083719ecd13b6cda2624007a0e1b601fe79ea83921d18408aa"
 },
 "nbformat": 3,
 "nbformat_minor": 0,
 "worksheets": [
  {
   "cells": [
    {
     "cell_type": "code",
     "collapsed": false,
     "input": [
      "import numpy as np\n",
      "import matplotlib.pyplot as plt\n",
      "\n",
      "# 1. Create a function for f(x) = sin(x)\n",
      "def func(x):\n",
      "    return np.sin(x)\n",
      "\n",
      "def plotFuncIntegral(x):\n",
      "    xp = np.arange(0,x+1)\n",
      "    cumsum = np.arange(0)\n",
      "    for j in xp:\n",
      "        npts = 10*xp[j]\n",
      "        yp = Trapezoidal(0,xp[j],npts)\n",
      "        sumx = yp.integrate(func)\n",
      "        cumsum = np.append(cumsum,sumx)\n",
      "    print xp.shape, cumsum.shape \n",
      "    xfine = np.linspace(0,x,100*x)\n",
      "    exact = 1 - np.cos(xfine)\n",
      "    plt.plot(xp, cumsum, lw=2)\n",
      "    plt.plot(xfine,exact,lw=2,color='r')\n",
      "    \n",
      "\n",
      "# 2. Use the following template make an integrator class.\n",
      "# 3. Add an additional function called integrate(self,func) inside the class Integrator, \n",
      "# which approximates the integral from the weigths self.weights at different points x_i: self.points. \n",
      "# Note the points and the weights should be arrays.\n",
      "\n",
      "class Integrator:\n",
      "    def __init__(self, a, b, n):\n",
      "        self.a, self.b, self.n = a, b, n\n",
      "        self.points, self.weights = self.method()\n",
      "        \n",
      "    def method(self):\n",
      "        raise NotImplementedError('no rule in class %s' %self.__class__.__name__)\n",
      "        \n",
      "    # The integral is approximated as:\\[ \\int_a^b f(x) dx \\approx \\sum_{i=0}^{n-1} w_i f(x_i), \\]\n",
      "    def integrate(self, func):\n",
      "        f, w = func(self.points), self.weights\n",
      "        return np.sum(f*w)"
     ],
     "language": "python",
     "metadata": {},
     "outputs": [],
     "prompt_number": 151
    },
    {
     "cell_type": "code",
     "collapsed": false,
     "input": [
      "class Trapezoidal(Integrator):\n",
      "    def method(self):\n",
      "        # Return x and w, the points for trapezoidal integration\n",
      "        points = np.linspace(self.a, self.b, self.n)\n",
      "        weights = (points[1:] - points[:-1])\n",
      "        #f = (func(points[:-1]) + func(points[1:])) *0.5 Shouldn't this be done here??\n",
      "        return points[:-1], weights\n",
      "        "
     ],
     "language": "python",
     "metadata": {},
     "outputs": [],
     "prompt_number": 156
    },
    {
     "cell_type": "code",
     "collapsed": false,
     "input": [
      "class Midpoint(Integrator):\n",
      "    def method(self):\n",
      "        dx = (self.b-self.a)/float(self.n)\n",
      "        points = np.linspace(self.a+dx/2.0, self.b-dx/2.0, self.n-1)\n",
      "        weights = dx*np.ones(self.n-1)\n",
      "        return points, weights\n",
      "        "
     ],
     "language": "python",
     "metadata": {},
     "outputs": [],
     "prompt_number": 157
    },
    {
     "cell_type": "code",
     "collapsed": false,
     "input": [
      "test = Trapezoidal(1,10,10)\n",
      "integral = test.integrate(func)\n",
      "print(integral)"
     ],
     "language": "python",
     "metadata": {},
     "outputs": [
      {
       "output_type": "stream",
       "stream": "stdout",
       "text": [
        "1.95520948211\n"
       ]
      }
     ],
     "prompt_number": 158
    },
    {
     "cell_type": "code",
     "collapsed": false,
     "input": [
      "%matplotlib inline\n",
      "plotFuncIntegral(10)\n",
      "  "
     ],
     "language": "python",
     "metadata": {},
     "outputs": [
      {
       "output_type": "stream",
       "stream": "stdout",
       "text": [
        "(11,) (11,)\n"
       ]
      },
      {
       "metadata": {},
       "output_type": "display_data",
       "png": "[encoded data removed]",
       "text": [
        "<matplotlib.figure.Figure at 0x104446890>"
       ]
      }
     ],
     "prompt_number": 159
    },
    {
     "cell_type": "code",
     "collapsed": false,
     "input": [],
     "language": "python",
     "metadata": {},
     "outputs": [],
     "prompt_number": 111
    },
    {
     "cell_type": "code",
     "collapsed": false,
     "input": [],
     "language": "python",
     "metadata": {},
     "outputs": []
    }
   ],
   "metadata": {}
  }
 ]
}